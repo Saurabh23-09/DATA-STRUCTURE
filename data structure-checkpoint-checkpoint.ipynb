{
 "cells": [
  {
   "cell_type": "markdown",
   "id": "833af950-b64a-4eb9-8105-53f9103bbe2d",
   "metadata": {},
   "source": [
    "# Data type and structure"
   ]
  },
  {
   "cell_type": "markdown",
   "id": "f17d4bef-f732-48cc-ba74-592b50a9ae3d",
   "metadata": {},
   "source": [
    " #### QUES 1-  What are data structures, and why are they important ?"
   ]
  },
  {
   "cell_type": "markdown",
   "id": "e40715e7-6650-418c-a809-95759b29f920",
   "metadata": {},
   "source": [
    "  #### Ans1 -  A data structure is a specific way of organizing and strong data on a computer .\n",
    " ###   Importance of data structure\n",
    "#### *       Efficient data structure\n",
    "    -   They allow for efficient storage and retrival of data, making it easier to work with large datasets.\n",
    "#### *       Improved program performance\n",
    "    -   Well-structured data makes code easier to understand, debug , and maintain ,leading to more rebust software. \n",
    "#### *       Code readability and maitainability\n",
    "    -   By optimizing how data  is organized, data structure can significantly improve program efficiency, especially for tasks like searching, sorting ,insertion,and deletion ."
   ]
  },
  {
   "cell_type": "markdown",
   "id": "d3bfc5e0-8175-4924-8b95-b7e9b7b1588b",
   "metadata": {},
   "source": [
    "### QUES 2-  Explain the difference between mutable and immutable data types with examples.\n",
    "#### ANS 2 - In programming, mutable and immutable data types refer to whether an object's state can be changed after it is created.\n",
    "\n",
    "### Mutable Data Types\n",
    "   Can be modified after creation.\n",
    "\n",
    "Changes are made in-place (no new object is created).\n",
    "\n",
    "Examples in Python:\n",
    "- Lists\n",
    "- Dictionaries\n",
    "- Sets\n",
    "- Byte Arrays\n",
    " User-defined classes (unless explicitly made immutable)\n",
    "### Immutable Data Types\n",
    "Cannot be modified after creation.\n",
    "\n",
    "Any \"modification\" creates a new object.\n",
    "\n",
    "Examples in Python:\n",
    "- Integers\n",
    "- Floats\n",
    "- Strings\n",
    "- Tuples\n",
    "- Frozen Sets\n",
    "- Bytes"
   ]
  },
  {
   "cell_type": "markdown",
   "id": "6baab16a-d364-4aac-a11c-f209eae6a555",
   "metadata": {},
   "source": [
    "### QUES 3 - What are the main differences between lists and tuples in Python\n",
    "### ANS 3 -  In Python, lists and tuples are both sequence data types used to store collections of items, but they have key differences:\n",
    "\n",
    " ## Feature                          \t               Lists\t                                     Tuples\n",
    "- Mutability                         -\tMutable (can be modified after creation)             -   Immutable (cannot be modified after creation)\n",
    "- Syntax\t                          -      Defined with square brackets []           - Defined with parentheses () (optional, but commas are required)\n",
    "- Performance                          - \tSlightly slower (due to mutability)                  -\tFaster (due to immutability)\n",
    "- Use Cases                      \t- Storing dynamic data (e.g., appending, removing)\t    -  Storing fixed data (e.g., constants, dictionary keys)\n",
    "- Methods\tSupports                 -     methods like append(), remove(), extend(), etc.      - \tFewer methods (mostly count() and index())\n",
    "- Memory Usage                      \t-  More memory (overhead for mutability)                     -  \tLess memory (fixed size)"
   ]
  },
  {
   "cell_type": "markdown",
   "id": "d67006c8-8e40-4c18-9c88-f3fc16959e65",
   "metadata": {},
   "source": [
    "### QUES 4 - Describe how dictionaries store data\n",
    "#### ANS 4 - In Python, dictionaries (dict) store data as key-value pairs, providing an efficient way to retrieve, insert, and manage data. Here’s how they work under the hood:\n",
    "#####  1. Key-Value Structure\n",
    "- Each entry consists of a unique key mapped to a value.\n",
    "##### 2. Hash Tables (Under the Hood)\n",
    "- Dictionaries use a hash table for fast lookups (average O(1) time complexity).\n",
    "##### 3. Mutability & Dynamic Resizing\n",
    "- Dictionaries are mutable (can add, modify, or delete items after creation).\n",
    "##### 4. Order Preservation (Python 3.7+)\n",
    "- As of Python 3.7, dictionaries preserve insertion order (like collections.OrderedDict)."
   ]
  },
  {
   "cell_type": "markdown",
   "id": "d5ea831e-90e6-49ef-b2b6-428c68373789",
   "metadata": {},
   "source": [
    "## QUES 5 - Why might you use a set instead of a list in Python\n",
    "### ANS 5 - In Python, you might choose a set over a list in scenarios where you need:\n",
    "##### 1. Uniqueness Enforcement\n",
    "- Sets automatically remove duplicates (only store unique elements).\n",
    "\n",
    "- Useful for deduplication without manual checks.\n",
    "##### 2. Faster Membership Testing\n",
    "- Sets use hash tables, making x in set operations O(1) (vs. O(n) for lists).\n",
    "##### 3. Mathematical Set Operations\n",
    "- Supports unions (|), intersections (&), differences (-), etc.\n",
    "##### 4. Performance for Large Data\n",
    "- Adding/removing elements is O(1) (lists are O(n) for inserts/deletions in the middle)."
   ]
  },
  {
   "cell_type": "markdown",
   "id": "f3f013e2-3540-44d2-a32f-d7561df70d8a",
   "metadata": {},
   "source": [
    "## QUES 6 - What is a string in Python, and how is it different from a list\n",
    "### ANS 6 - In Python, a string and a list are both sequence types, but they serve different purposes and have key differences:\n",
    "### 1. Definition\n",
    "#### String:\n",
    "\n",
    "- An immutable sequence of Unicode characters (text).\n",
    "\n",
    "- Defined with single (' '), double (\" \"), or triple quotes (''' ''' or \"\"\" \"\"\").\n",
    "\n",
    "  \n",
    "#### List:\n",
    "\n",
    "- A mutable sequence of arbitrary objects (e.g., numbers, strings, other lists).\n",
    "\n",
    "- Defined with square brackets [].\n",
    "### 2. Mutability\n",
    "- Strings are immutable: Cannot change individual characters after creation.\n",
    "- Lists are mutable: Can modify, append, or delete elements.\n",
    "### 3. Use Cases\n",
    "#### String:\n",
    "\n",
    "- Text processing (e.g., parsing, formatting).\n",
    "\n",
    "- Storing passwords, file paths, or JSON/XML data.\n",
    "\n",
    "#### List:\n",
    "\n",
    "- Storing collections of items (e.g., shopping lists, matrix rows).\n",
    "\n",
    "- Dynamic data that changes frequently\n"
   ]
  },
  {
   "cell_type": "markdown",
   "id": "e72c6f32-f8ac-49f1-9ff7-a6e1d10468de",
   "metadata": {},
   "source": [
    "## QUES 7 - How do tuples ensure data integrity in Python\n",
    "#### ANS 7 - Tuples guarantee data integrity through their immutable nature, making them ideal for storing fixed data that shouldn’t change accidentally. Here’s how they enforce safety:\n",
    "#### 1. Immutability (Core Feature)\n",
    "- Once created, a tuple cannot be modified:\n",
    "\n",
    "- No adding, removing, or changing elements.\n",
    "\n",
    "- Prevents accidental data corruption.\n",
    "#### 2. Use Cases Ensuring Integrity\n",
    "##### a) Constants\n",
    "- Store unchangeable values (e.g., configurations, mathematical constants).\n",
    "##### b) Dictionary Keys\n",
    "- Only immutable types (like tuples) can be dictionary keys. Lists cannot.\n",
    "##### c) Function Arguments\n",
    "- Pass tuples to ensure function inputs remain unchanged.\n",
    "#### 3. Performance Benefits\n",
    "- Faster than lists: Immutability allows Python to optimize memory and access.\n",
    "\n",
    "- Hashable: Can be used in sets/dicts (unlike lists).\n",
    "\n",
    "#### 4 . Workarounds for \"Modification\"\n",
    "- While tuples themselves are immutable, their contents can include mutable objects (e.g., lists). To enforce full integrity:"
   ]
  },
  {
   "cell_type": "markdown",
   "id": "d7094b02-8f65-455d-8858-72209dff5d98",
   "metadata": {},
   "source": [
    "### QUES 8-What is a hash table, and how does it relate to dictionaries in Python\n",
    "#### ANS 8 - A hash table is a data structure that stores key-value pairs by using a hash function to compute an index (hash) into an array of slots (buckets), enabling efficient data retrieval (average O(1) time complexity).\n",
    "How Hash Tables Relate to Python Dictionaries\n",
    "In Python, dictionaries (dict) are implemented as hash tables, which explains their performance and behavior:\n",
    "\n",
    "##### 1. Key Features Inherited from Hash Tables\n",
    "- Feature                         --     \tDictionary Behavior                 --                    \tHash Table Basis\n",
    "- Fast Lookups\t         --   O(1) average time for dict[key]\t                --          Direct indexing via hash function.\n",
    "- Mutable Keys\t      --  Keys must be immutable (e.g., str, int, tuple).       --     \tHash function requires stable keys.\n",
    "- Unordered (Pre-3.7)        --\tNo guaranteed order (hash-dependent).           --     \tHash tables are inherently unordered.\n",
    "- Dynamic Resizing\t    --   Grows/shrinks as items are added/removed.\t        --     Maintains load factor for efficiency.\n",
    "##### 2. Dictionary-Specific Optimizations\n",
    "- Ordered (Python 3.7+): Modern Python dictionaries preserve insertion order (via a secondary linked list).\n",
    "- Compact Storage: Uses a more memory-efficient layout than classic hash tables.\n",
    "##### 3. Example: Dictionary as a Hash Table\n",
    "- user = {\"name\": \"Alice\", \"age\": 30, \"city\": \"Paris\"}  "
   ]
  },
  {
   "cell_type": "markdown",
   "id": "fa17a055-6eeb-4edc-a0bd-028fe7d0975d",
   "metadata": {},
   "source": [
    "### QUES 9 - Can lists contain different data types in Python\n",
    "#### ANS 9 -Yes! Python lists are heterogeneous, meaning they can store elements of different data types in the same list. This flexibility is a key difference from statically-typed languages (like Java or C++)."
   ]
  },
  {
   "cell_type": "markdown",
   "id": "e0bbd3ac-3e03-46fa-b5fe-eb7297006f28",
   "metadata": {},
   "source": [
    "### QUES 10 - Explain why strings are immutable in Python\n",
    "#### ANS 10 -Python strings are immutable, meaning once created, they cannot be modified. This design choice has several key advantages:\n",
    " #### Key Reasons for String Immutability:\n",
    "######  Security & Safety\n",
    "\n",
    "- Immutable strings prevent unintended modifications, making them safer for use in dictionaries, hash tables, and as keys.\n",
    "\n",
    "Example: If strings were mutable, a key in a dictionary could change, leading to inconsistencies.\n",
    "\n",
    "###### Performance Optimization (Hash Caching)\n",
    "\n",
    " - Since strings are immutable, Python can cache their hash values, making dictionary lookups and set operations faster.\n",
    "\n",
    "###### Memory Efficiency (String Interning)\n",
    "\n",
    "- Python interns small strings (reuses the same object for identical strings), saving memory.\n",
    "\n",
    "###### Thread Safety\n",
    "\n",
    "- Immutable strings can be safely shared across threads without synchronization issues.\n",
    "\n",
    "###### Consistency in Caching & Optimization\n",
    "\n",
    "- Functions that take strings as arguments don’t need to worry about the string changing unexpectedly."
   ]
  },
  {
   "cell_type": "markdown",
   "id": "0fcfdbf7-783d-49ad-aeb4-36beccff92e3",
   "metadata": {},
   "source": [
    "### QUES 11- What advantages do dictionaries offer over lists for certain tasks ?\n",
    "#### ANS 11 - Dictionaries (dict) and lists (list) are both fundamental data structures in Python, but they serve different purposes and excel in different scenarios. Here’s why dictionaries are preferred over lists for certain tasks:\n",
    "\n",
    "Key Advantages of Dictionaries Over Lists\n",
    "\n",
    "1. Faster Lookups (O(1) Time Complexity)\n",
    " * Dictionaries use hash tables, allowing constant-time (O(1)) lookups by key.\n",
    "\n",
    "* Lists require linear scans (O(n)) for membership checks (unless sorted, which still requires O(log n) with binary search).\n",
    "2. Key-Value Pair Storage (Semantic Clarity)\n",
    "* Dictionaries store data as key-value pairs, making code more readable and self-documenting.\n",
    "\n",
    "* Lists rely on integer indices, which are less expressive\n",
    "3. No Duplicate Keys (Ensures Uniqueness)\n",
    "* Dictionaries enforce unique keys, preventing accidental duplicates.\n",
    "\n",
    "* Lists allow duplicate entries, requiring manual checks"
   ]
  },
  {
   "cell_type": "markdown",
   "id": "6807a5b7-ff74-42c6-86f0-0ae9e3ec235f",
   "metadata": {},
   "source": [
    "### QUES 12 -  Describe a scenario where using a tuple would be preferable over a list\n",
    "#### ANS 12 -  Tuples (tuple) and lists (list) are both sequence types in Python, but tuples are immutable, while lists are mutable. This key difference makes tuples preferable in certain scenarios:\n",
    "\n",
    "##### 1. Data Integrity (Immutable = Safe from Accidental Changes)\n",
    " ✅ Use tuples when:\n",
    "\n",
    "* You want to ensure the data cannot be modified after creation.\n",
    "###### 2. Dictionary Keys (Tuples are Hashable, Lists Are Not)\n",
    "✅ Use tuples when:\n",
    "\n",
    "* You need a key in a dictionary (only hashable types allowed).\n",
    "###### 3. Function Arguments & Return Values (Guaranteed Structure)\n",
    "✅ Use tuples when:\n",
    "\n",
    "* Returning fixed-size data from a function (e.g., coordinates, RGB values)."
   ]
  },
  {
   "cell_type": "markdown",
   "id": "85d3c64e-1bd7-41c4-97a2-1f82c2e01984",
   "metadata": {},
   "source": [
    "### QUES 13 How do sets handle duplicate values in Python\n",
    "#### ANS 13 -In Python, sets (set) are unordered collections of unique elements. They automatically eliminate duplicate values, ensuring that each item appears only once. Here’s how they work:\n",
    "\n",
    "###### 1. Automatic Deduplication\n",
    "* When you add a duplicate value to a set, it silently ignores the duplicate.\n",
    "###### 2. How Duplicates Are Detected\n",
    "* Sets use hashing to enforce uniqueness:\n",
    "\n",
    "* Each element must be hashable (immutable types like int, str, tuple).\n",
    "\n",
    "* When you add an element:\n",
    "\n",
    "* Python computes its hash value.\n",
    "\n",
    "* If another element with the same hash exists, the new one is rejected.\n",
    "###### 3. Adding Duplicates at Runtime\n",
    "* Methods like .add() and .update() also enforce uniqueness.\n",
    "###### 4. Edge Cases\n",
    "* Mutable objects (like lists) cannot be added to sets because they’re unhashable.\n",
    "* Tuples can be added (since they’re immutable):"
   ]
  },
  {
   "cell_type": "markdown",
   "id": "c339b6c3-fd74-4af9-aca1-b094bc853a66",
   "metadata": {},
   "source": [
    "### QUES 14 -  How does the “in” keyword work differently for lists and dictionaries\n",
    "#### ANS 14 - The in keyword checks for membership, but its behavior varies between lists and dictionaries due to their underlying data structures. Here’s how they differ:\n",
    "\n",
    "##### 1. in with Lists (Slow – O(n) Time)\n",
    "* Checks each element sequentially (linear search).\n",
    "\n",
    "* Time Complexity: O(n) (slower for large lists).\n",
    "\n",
    "* Use Case: Best for small lists or when order matters.\n",
    "##### 2. in with Dictionaries (Fast – O(1) Time)\n",
    "* Checks for keys (not values) using a hash table.\n",
    "\n",
    "* Time Complexity: O(1) (constant time, extremely fast).\n",
    "\n",
    "* Use Case: Ideal for large datasets or frequent lookups.\n"
   ]
  },
  {
   "cell_type": "markdown",
   "id": "ede7cdac-0f45-404d-8ae3-523a319b8653",
   "metadata": {},
   "source": [
    "### QUES 15 - Can you modify the elements of a tuple? Explain why or why not\n",
    "#### ANS 15 - No, tuples are immutable in Python. Once created, their elements cannot be changed, added, or removed.\n",
    "\n",
    "##### Why Tuples Are Immutable\n",
    "* Data Integrity\n",
    "\n",
    " * Ensures the tuple remains constant (useful for fixed data like coordinates, database records, or configurations).\n",
    "##### Hashability\n",
    "\n",
    "* Tuples can be used as keys in dictionaries (because they’re immutable and hashable).\n",
    "\n",
    "* Lists (mutable) cannot be dictionary keys.\n",
    "\n",
    "##### Performance Optimization\n",
    "\n",
    "* Immutable objects are faster to access and store due to Python’s internal optimizations.\n"
   ]
  },
  {
   "cell_type": "markdown",
   "id": "a33d6cd3-b258-4980-b318-bf9d1bda18ae",
   "metadata": {},
   "source": [
    "### QUES 16 -What is a nested dictionary, and give an example of its use case\n",
    "#### ANS 16 -A nested dictionary is a dictionary that contains other dictionaries as values. This allows you to store hierarchical or structured data in a key-value format, where values themselves can be dictionaries.\n",
    "##### Key Characteristics\n",
    "* Multiple Levels of Nesting\n",
    "\n",
    "* You can nest dictionaries as deeply as needed.\n",
    "##### Mixed Data Types\n",
    "\n",
    "* Values can be dictionaries, lists, strings, numbers, etc.\n"
   ]
  },
  {
   "cell_type": "markdown",
   "id": "550477c1-ab4a-44c0-a64d-f18b7d04f26c",
   "metadata": {},
   "source": [
    "### QUES 17 - Describe the time complexity of accessing elements in a dictionary\n",
    "#### ANS 17 - Time Complexity of Accessing Elements in a Python Dictionary\n",
    "In Python, dictionaries (dict) are implemented using hash tables, which provide highly efficient element access. Here’s a breakdown of their time complexity for common operations:\n",
    "\n",
    "##### 1. Accessing a Value by Key (Lookup)\n",
    "* Time Complexity: O(1) (Average Case)\n",
    "\n",
    "* Worst Case: O(n) (Extremely rare, due to hash collisions)\n",
    "\n",
    "##### Why?\n",
    "\n",
    "* Dictionaries use hashing to compute an index for each key, allowing direct access to the associated value.\n",
    "\n",
    "* Hash collisions (two keys producing the same hash) are rare in practice due to Python’s collision resolution (open addressing).\n",
    "##### 2. Checking if a Key Exists (in Operator)\n",
    "* Time Complexity: O(1) (Same as lookup)\n",
    "##### 3. Accessing Keys, Values, or Items\n",
    "* dict.keys(), dict.values(), dict.items():\n",
    "\n",
    "* Iteration: O(n) (Must traverse all elements)\n",
    "\n",
    "* Membership Check (in): O(1) for keys, O(n) for values (since values aren’t hashed).\n",
    "##### 4. Worst-Case Scenario (Hash Collisions)\n",
    "* If all keys collide (same hash), lookups degrade to O(n) (like a linked list).\n",
    "\n",
    "* This is rare because Python dynamically resizes the hash table to minimize collisions.\n",
    "\n"
   ]
  },
  {
   "cell_type": "markdown",
   "id": "6fdc456f-edba-43e6-9ff2-069e325b37fa",
   "metadata": {},
   "source": [
    "### QUES 18 - In what situations are lists preferred over dictionaries\n",
    "#### ANS 18 - When to Use Lists Instead of Dictionaries in Python\n",
    "Lists (list) and dictionaries (dict) serve different purposes in Python. While dictionaries excel at fast key-value lookups, lists are preferred in the following scenarios:\n",
    "\n",
    "#####  1. When You Need Ordered Data \n",
    "* ✅ Lists maintain insertion order (guaranteed since Python 3.7+ for dict, but lists are inherently ordered).\n",
    "* ❌ Dictionaries (pre-3.7) did not guarantee order.\n",
    "##### 2. When You Need Index-Based Access\n",
    "* ✅ Lists allow O(1) access by integer index.\n",
    "* ❌ Dictionaries require keys (no numerical indexing)\n",
    "#####  3. When You Need to Store Duplicates\n",
    "* ✅ Lists allow duplicate elements.\n",
    "* ❌ Dictionaries enforce unique keys (values can be duplicates, but keys cannot).\n",
    "  ##### 4. When Memory Efficiency Matters\n",
    "* ✅ Lists are more memory-efficient for storing simple sequences.\n",
    "* ❌ Dictionaries have higher overhead due to hash tables."
   ]
  },
  {
   "cell_type": "markdown",
   "id": "1d97f965-a58f-4d4b-abf3-4fdf90acf8b0",
   "metadata": {},
   "source": [
    "## QUES 19 -Why are dictionaries considered unordered, and how does that affect data retrieval ?\n",
    "### ANS 19 - Dictionaries are considered unordered (historically) because their internal data structure doesn’t guarantee the order of elements as they were inserted. Let’s break this down and clarify how this applies today, especially in Python:\n",
    " ##### Historically (prior to Python 3.7):\n",
    "\n",
    "* Dictionaries used hash tables to store key-value pairs.\n",
    "\n",
    "* Keys were stored based on their hash values, not insertion order.\n",
    "\n",
    "* So if you inserted keys a, b, c, there was no guarantee you'd get them back in that order.\n",
    "\n",
    "Thus, dictionaries were called unordered collections—the emphasis was on efficient lookup, not order preservation.\n",
    "\n",
    "✅ Modern Behavior (Python 3.7+)\n",
    "From Python 3.7 onward, dictionaries do preserve insertion order as an implementation detail, and from Python 3.8+, it's a language guarantee."
   ]
  },
  {
   "cell_type": "markdown",
   "id": "6f876d73-228c-4c08-b783-ea7ffa3540fc",
   "metadata": {},
   "source": [
    "## QUES 2O - Explain the difference between a list and a dictionary in terms of data retrieval.\n",
    "### ANS 20 -🔢 List (ordered collection of items)\n",
    "A list stores values by position/index:\n",
    "✅ Data Retrieval:\n",
    " * Use an integer index to access items\n",
    "T* ime complexity: O(1) (direct index access)\n",
    "\n",
    "🚫 Limitations:\n",
    "* You must know the index of the item.\n",
    "\n",
    "* Searching by value (e.g. \"Where is 'cherry'?\") is O(n) (slow for large lists).\n",
    "\n",
    "* 🔑 Dictionary (key-value pair collection)\n",
    "* A dictionary stores values by key\n",
    "✅ Data Retrieval:\n",
    "* Use a key (usually a string or number\n",
    "* Time complexity: O(1) (average-case, thanks to hashing)\n",
    "\n",
    "🚫 Limitations:\n",
    "* You must know the exact key.\n",
    "\n",
    "* Keys must be unique and hashable."
   ]
  },
  {
   "cell_type": "markdown",
   "id": "3f376e10-5517-43cb-b87c-f6a3f1e60123",
   "metadata": {},
   "source": [
    "# PRACTICAL QUESTIONS"
   ]
  },
  {
   "cell_type": "markdown",
   "id": "58e3dab9-be21-43ce-aa38-52e3c9abaf28",
   "metadata": {},
   "source": [
    "## QUES 1 - Write a code to create a string with your name and print it"
   ]
  },
  {
   "cell_type": "code",
   "execution_count": 1,
   "id": "3ce6b365-09db-44f2-a67a-9fbf2c12ca3f",
   "metadata": {},
   "outputs": [
    {
     "name": "stdout",
     "output_type": "stream",
     "text": [
      "My name is Saurabh Singh\n"
     ]
    }
   ],
   "source": [
    "name = \"Saurabh Singh\"\n",
    "print(\"My name is\", name)\n"
   ]
  },
  {
   "cell_type": "markdown",
   "id": "0d3f6412-f92a-43ce-afcf-6c8dece92c0b",
   "metadata": {},
   "source": [
    "##  QUES 2 - Write a code to find the length of the string \"Hello World\""
   ]
  },
  {
   "cell_type": "code",
   "execution_count": 2,
   "id": "e323b2b7-b450-4625-96a4-0744085f6f26",
   "metadata": {},
   "outputs": [
    {
     "name": "stdout",
     "output_type": "stream",
     "text": [
      "Length of the string is: 11\n"
     ]
    }
   ],
   "source": [
    "# Define the string\n",
    "text = \"Hello World\"\n",
    "\n",
    "# Find the length using len()\n",
    "length = len(text)\n",
    "\n",
    "# Print the result\n",
    "print(\"Length of the string is:\", length)\n"
   ]
  },
  {
   "cell_type": "markdown",
   "id": "daa2fdc1-fee6-440b-8196-0e06835199ac",
   "metadata": {},
   "source": [
    " ## QUES 3 - Write a code to slice the first 3 characters from the string \"Python Programming"
   ]
  },
  {
   "cell_type": "code",
   "execution_count": 3,
   "id": "223160f3-623f-4be2-bfcf-906c2a7e920e",
   "metadata": {},
   "outputs": [
    {
     "name": "stdout",
     "output_type": "stream",
     "text": [
      "First 3 characters: Pyt\n"
     ]
    }
   ],
   "source": [
    "# Define the string\n",
    "text = \"Python Programming\"\n",
    "\n",
    "# Slice the first 3 characters\n",
    "first_three = text[:3]\n",
    "\n",
    "# Print the result\n",
    "print(\"First 3 characters:\", first_three)\n"
   ]
  },
  {
   "cell_type": "markdown",
   "id": "7ba0629d-68cc-4774-887f-3f56923a2354",
   "metadata": {},
   "source": [
    "## QUES 4 - Write a code to convert the string \"hello\" to uppercase"
   ]
  },
  {
   "cell_type": "code",
   "execution_count": 4,
   "id": "d9ec47a7-ad4c-4e34-8248-b962d27672d8",
   "metadata": {},
   "outputs": [
    {
     "name": "stdout",
     "output_type": "stream",
     "text": [
      "Uppercase: HELLO\n"
     ]
    }
   ],
   "source": [
    "# Define the string\n",
    "text = \"hello\"\n",
    "\n",
    "# Convert to uppercase\n",
    "upper_text = text.upper()\n",
    "\n",
    "# Print the result\n",
    "print(\"Uppercase:\", upper_text)\n"
   ]
  },
  {
   "cell_type": "markdown",
   "id": "0cb9ff40-5789-44ed-8340-7a0cba15d522",
   "metadata": {},
   "source": [
    "## QUES 5- Write a code to replace the word \"apple\" with \"orange\" in the string \"I like apple\""
   ]
  },
  {
   "cell_type": "code",
   "execution_count": 5,
   "id": "68f297a9-fccf-4c21-8284-0c1e0889b0eb",
   "metadata": {},
   "outputs": [
    {
     "name": "stdout",
     "output_type": "stream",
     "text": [
      "Updated string: I like orange\n"
     ]
    }
   ],
   "source": [
    "# Define the string\n",
    "text = \"I like apple\"\n",
    "\n",
    "# Replace 'apple' with 'orange'\n",
    "new_text = text.replace(\"apple\", \"orange\")\n",
    "\n",
    "# Print the result\n",
    "print(\"Updated string:\", new_text)\n"
   ]
  },
  {
   "cell_type": "markdown",
   "id": "2980c4af-0cc1-4dfd-b87f-fb972a075d20",
   "metadata": {},
   "source": [
    "## QUES 6 - Write a code to create a list with numbers 1 to 5 and print it"
   ]
  },
  {
   "cell_type": "code",
   "execution_count": 6,
   "id": "933b47e2-22b7-42fa-a185-ce0e609f8c3a",
   "metadata": {},
   "outputs": [
    {
     "name": "stdout",
     "output_type": "stream",
     "text": [
      "List of numbers: [1, 2, 3, 4, 5]\n"
     ]
    }
   ],
   "source": [
    "# Create a list with numbers 1 to 5\n",
    "numbers = [1, 2, 3, 4, 5]\n",
    "\n",
    "# Print the list\n",
    "print(\"List of numbers:\", numbers)\n"
   ]
  },
  {
   "cell_type": "markdown",
   "id": "0377519b-ee65-4ec8-a387-9bd4d74b3e5a",
   "metadata": {},
   "source": [
    "## QUES 7 - Write a code to append the number 10 to the list [1, 2, 3, 4]"
   ]
  },
  {
   "cell_type": "code",
   "execution_count": 7,
   "id": "4dbe5bfa-48d5-4239-9c98-3ef6f0adaac0",
   "metadata": {},
   "outputs": [
    {
     "name": "stdout",
     "output_type": "stream",
     "text": [
      "Updated list: [1, 2, 3, 4, 10]\n"
     ]
    }
   ],
   "source": [
    "# Define the list\n",
    "numbers = [1, 2, 3, 4]\n",
    "\n",
    "# Append the number 10\n",
    "numbers.append(10)\n",
    "\n",
    "# Print the updated list\n",
    "print(\"Updated list:\", numbers)\n"
   ]
  },
  {
   "cell_type": "markdown",
   "id": "d533e1a8-7d12-4dfb-8779-a2d2c2ec295e",
   "metadata": {},
   "source": [
    "## QUES 8 - P Write a code to remove the number 3 from the list [1, 2, 3, 4, 5]"
   ]
  },
  {
   "cell_type": "code",
   "execution_count": 8,
   "id": "6ff04746-f75f-41e0-beac-6548ba905022",
   "metadata": {},
   "outputs": [
    {
     "name": "stdout",
     "output_type": "stream",
     "text": [
      "Updated list: [1, 2, 4, 5]\n"
     ]
    }
   ],
   "source": [
    "# Define the list\n",
    "numbers = [1, 2, 3, 4, 5]\n",
    "\n",
    "# Remove the number 3\n",
    "numbers.remove(3)\n",
    "\n",
    "# Print the updated list\n",
    "print(\"Updated list:\", numbers)\n"
   ]
  },
  {
   "cell_type": "markdown",
   "id": "d365710c-e067-4e7f-a79a-877328d73866",
   "metadata": {},
   "source": [
    "## QUES 9-P Write a code to access the second element in the list ['a', 'b', 'c', 'd']"
   ]
  },
  {
   "cell_type": "code",
   "execution_count": 9,
   "id": "0a4c143e-4379-408b-a429-3495e696634c",
   "metadata": {},
   "outputs": [
    {
     "name": "stdout",
     "output_type": "stream",
     "text": [
      "Second element: b\n"
     ]
    }
   ],
   "source": [
    "# Define the list\n",
    "letters = ['a', 'b', 'c', 'd']\n",
    "\n",
    "# Access the second element (index 1)\n",
    "second_element = letters[1]\n",
    "\n",
    "# Print the result\n",
    "print(\"Second element:\", second_element)\n"
   ]
  },
  {
   "cell_type": "markdown",
   "id": "b4152316-4f6c-4610-855c-3cf2e70b1562",
   "metadata": {},
   "source": [
    "## QUES 10 - Write a code to reverse the list [10, 20, 30, 40, 50]."
   ]
  },
  {
   "cell_type": "code",
   "execution_count": 10,
   "id": "84fb3910-4b06-4366-bfe9-1770f4c8d361",
   "metadata": {},
   "outputs": [
    {
     "name": "stdout",
     "output_type": "stream",
     "text": [
      "Reversed list: [50, 40, 30, 20, 10]\n"
     ]
    }
   ],
   "source": [
    "# Define the list\n",
    "numbers = [10, 20, 30, 40, 50]\n",
    "\n",
    "# Reverse the list\n",
    "numbers.reverse()\n",
    "\n",
    "# Print the reversed list\n",
    "print(\"Reversed list:\", numbers)\n"
   ]
  },
  {
   "cell_type": "markdown",
   "id": "a0f26139-905d-4689-898a-52c791a6976b",
   "metadata": {},
   "source": [
    "## QUES 11  -  Write a code to create a tuple with the elements 100, 200, 300 and print it."
   ]
  },
  {
   "cell_type": "code",
   "execution_count": 1,
   "id": "a9208d8e-8ace-4b52-9d67-771522bd40c0",
   "metadata": {},
   "outputs": [
    {
     "name": "stdout",
     "output_type": "stream",
     "text": [
      "(100, 200, 300)\n"
     ]
    }
   ],
   "source": [
    "# Creating a tuple\n",
    "my_tuple = (100, 200, 300)\n",
    "\n",
    "# Printing the tuple\n",
    "print(my_tuple)\n"
   ]
  },
  {
   "cell_type": "markdown",
   "id": "d446362b-d2e3-4fe9-a8cf-b2ee8ee37b45",
   "metadata": {},
   "source": [
    "## QUES 12 -  Write a code to access the second-to-last element of the tuple ('red', 'green', 'blue', 'yellow')."
   ]
  },
  {
   "cell_type": "code",
   "execution_count": 2,
   "id": "5d6c1a3a-21a2-4441-9aca-ac7e34b0c1b1",
   "metadata": {},
   "outputs": [
    {
     "name": "stdout",
     "output_type": "stream",
     "text": [
      "blue\n"
     ]
    }
   ],
   "source": [
    "# Define the tuple\n",
    "colors = ('red', 'green', 'blue', 'yellow')\n",
    "\n",
    "# Access the second-to-last element\n",
    "second_to_last = colors[-2]\n",
    "\n",
    "# Print the result\n",
    "print(second_to_last)\n"
   ]
  },
  {
   "cell_type": "markdown",
   "id": "05fa0d1a-75e4-40aa-aeda-41f1c197f02d",
   "metadata": {},
   "source": [
    "## QUES 13 -  Write a code to find the minimum number in the tuple (10, 20, 5, 15)."
   ]
  },
  {
   "cell_type": "code",
   "execution_count": 3,
   "id": "f3408387-fd92-4dc0-872a-0a5e297ece97",
   "metadata": {},
   "outputs": [
    {
     "name": "stdout",
     "output_type": "stream",
     "text": [
      "5\n"
     ]
    }
   ],
   "source": [
    "# Define the tuple\n",
    "numbers = (10, 20, 5, 15)\n",
    "\n",
    "# Find the minimum number\n",
    "min_number = min(numbers)\n",
    "\n",
    "# Print the result\n",
    "print(min_number)\n"
   ]
  },
  {
   "cell_type": "markdown",
   "id": "a80d4fbb-d70c-4b8d-9308-d06391273680",
   "metadata": {},
   "source": [
    "## QUES 14 -  Write a code to find the index of the element \"cat\" in the tuple ('dog', 'cat', 'rabbit')."
   ]
  },
  {
   "cell_type": "code",
   "execution_count": 4,
   "id": "3ef5d19b-6f0b-49e8-a16c-fe6fd67e543f",
   "metadata": {},
   "outputs": [
    {
     "name": "stdout",
     "output_type": "stream",
     "text": [
      "1\n"
     ]
    }
   ],
   "source": [
    "# Define the tuple\n",
    "animals = ('dog', 'cat', 'rabbit')\n",
    "\n",
    "# Find the index of \"cat\"\n",
    "cat_index = animals.index('cat')\n",
    "\n",
    "# Print the result\n",
    "print(cat_index)\n"
   ]
  },
  {
   "cell_type": "markdown",
   "id": "9a6f25d2-152a-4d38-98d8-9197c8f0bd3b",
   "metadata": {},
   "source": [
    "## QUES 15 -  Write a code to create a tuple containing three different fruits and check if \"kiwi\" is in it."
   ]
  },
  {
   "cell_type": "code",
   "execution_count": 5,
   "id": "a0379844-9834-4f59-a2c6-7f1f2124f831",
   "metadata": {},
   "outputs": [
    {
     "name": "stdout",
     "output_type": "stream",
     "text": [
      "Is 'kiwi' in the tuple? False\n"
     ]
    }
   ],
   "source": [
    "# Create a tuple of fruits\n",
    "fruits = ('apple', 'banana', 'orange')\n",
    "\n",
    "# Check if \"kiwi\" is in the tuple\n",
    "is_kiwi_present = 'kiwi' in fruits\n",
    "\n",
    "# Print the result\n",
    "print(\"Is 'kiwi' in the tuple?\", is_kiwi_present)\n"
   ]
  },
  {
   "cell_type": "markdown",
   "id": "d2bfc24e-4d3a-492a-9952-243b8ed9bbd2",
   "metadata": {},
   "source": [
    "## QUES 16 -  Write a code to create a set with the elements 'a', 'b', 'c' and print it."
   ]
  },
  {
   "cell_type": "code",
   "execution_count": 6,
   "id": "c50b3085-755c-4b11-ba1d-5b28c5f5d504",
   "metadata": {},
   "outputs": [
    {
     "name": "stdout",
     "output_type": "stream",
     "text": [
      "{'a', 'b', 'c'}\n"
     ]
    }
   ],
   "source": [
    "# Create a set\n",
    "my_set = {'a', 'b', 'c'}\n",
    "\n",
    "# Print the set\n",
    "print(my_set)\n"
   ]
  },
  {
   "cell_type": "markdown",
   "id": "3c0cc2e9-8f8c-4920-85f8-98a832ccc63d",
   "metadata": {},
   "source": [
    "## QUES 17 -  Write a code to clear all elements from the set {1, 2, 3, 4, 5}."
   ]
  },
  {
   "cell_type": "code",
   "execution_count": 7,
   "id": "d3e5ab1b-b7fe-4180-97b2-168bed4ade0a",
   "metadata": {},
   "outputs": [
    {
     "name": "stdout",
     "output_type": "stream",
     "text": [
      "set()\n"
     ]
    }
   ],
   "source": [
    "# Define the set\n",
    "my_set = {1, 2, 3, 4, 5}\n",
    "\n",
    "# Clear all elements from the set\n",
    "my_set.clear()\n",
    "\n",
    "# Print the result\n",
    "print(my_set)\n"
   ]
  },
  {
   "cell_type": "markdown",
   "id": "3bf1ba7b-d4ea-4049-a3ca-40fa2ae6e380",
   "metadata": {},
   "source": [
    "## QUES 18 -  Write a code to remove the element 4 from the set {1, 2, 3, 4}"
   ]
  },
  {
   "cell_type": "code",
   "execution_count": 8,
   "id": "f7d98a9f-f7d8-4b72-8265-4e30359a5569",
   "metadata": {},
   "outputs": [
    {
     "name": "stdout",
     "output_type": "stream",
     "text": [
      "{1, 2, 3}\n"
     ]
    }
   ],
   "source": [
    "# Define the set\n",
    "my_set = {1, 2, 3, 4}\n",
    "\n",
    "# Remove the element 4\n",
    "my_set.remove(4)\n",
    "\n",
    "# Print the result\n",
    "print(my_set)\n"
   ]
  },
  {
   "cell_type": "markdown",
   "id": "4e62de3e-1c1f-4e4d-8b9c-2fd39a3235a4",
   "metadata": {},
   "source": [
    "## QUES 19 -  Write a code to find the union of two sets {1, 2, 3} and {3, 4, 5}"
   ]
  },
  {
   "cell_type": "code",
   "execution_count": 9,
   "id": "9dea0259-a482-4770-b104-fc4b9f08b773",
   "metadata": {},
   "outputs": [
    {
     "name": "stdout",
     "output_type": "stream",
     "text": [
      "{1, 2, 3, 4, 5}\n"
     ]
    }
   ],
   "source": [
    "# Define the sets\n",
    "set1 = {1, 2, 3}\n",
    "set2 = {3, 4, 5}\n",
    "\n",
    "# Find the union of the two sets\n",
    "union_set = set1.union(set2)\n",
    "\n",
    "# Print the result\n",
    "print(union_set)\n"
   ]
  },
  {
   "cell_type": "markdown",
   "id": "43b7232e-001d-4f61-94f2-324f8877531f",
   "metadata": {},
   "source": [
    "## QUES 20 - Write a code to find the intersection of two sets {1, 2, 3} and {2, 3, 4}"
   ]
  },
  {
   "cell_type": "code",
   "execution_count": 10,
   "id": "0e19812e-a9ae-4789-acb0-a72f9d14d176",
   "metadata": {},
   "outputs": [
    {
     "name": "stdout",
     "output_type": "stream",
     "text": [
      "{2, 3}\n"
     ]
    }
   ],
   "source": [
    "# Define the sets\n",
    "set1 = {1, 2, 3}\n",
    "set2 = {2, 3, 4}\n",
    "\n",
    "# Find the intersection of the two sets\n",
    "intersection_set = set1.intersection(set2)\n",
    "\n",
    "# Print the result\n",
    "print(intersection_set)\n"
   ]
  },
  {
   "cell_type": "markdown",
   "id": "e3d4751c-b54c-4a55-b7fc-27364909314b",
   "metadata": {},
   "source": [
    "## QUES 21 - Write a code to create a dictionary with the keys \"name\", \"age\", and \"city\", and print it"
   ]
  },
  {
   "cell_type": "code",
   "execution_count": 11,
   "id": "210c1059-f2bc-4395-a212-ee8bcdaf27dc",
   "metadata": {},
   "outputs": [
    {
     "name": "stdout",
     "output_type": "stream",
     "text": [
      "{'name': 'Alice', 'age': 30, 'city': 'New York'}\n"
     ]
    }
   ],
   "source": [
    "# Create the dictionary\n",
    "person = {\n",
    "    \"name\": \"Alice\",\n",
    "    \"age\": 30,\n",
    "    \"city\": \"New York\"\n",
    "}\n",
    "\n",
    "# Print the dictionary\n",
    "print(person)\n"
   ]
  },
  {
   "cell_type": "markdown",
   "id": "917ce555-7eec-4ec7-8431-edf2ef4c8412",
   "metadata": {},
   "source": [
    "## QUES 22 -  Write a code to add a new key-value pair \"country\": \"USA\" to the dictionary {'name': 'John', 'age': 25}."
   ]
  },
  {
   "cell_type": "code",
   "execution_count": 12,
   "id": "115e83a3-e04c-4668-b059-e37f494f7b18",
   "metadata": {},
   "outputs": [
    {
     "name": "stdout",
     "output_type": "stream",
     "text": [
      "{'name': 'John', 'age': 25, 'country': 'USA'}\n"
     ]
    }
   ],
   "source": [
    "# Original dictionary\n",
    "person = {'name': 'John', 'age': 25}\n",
    "\n",
    "# Add new key-value pair\n",
    "person['country'] = 'USA'\n",
    "\n",
    "# Print the updated dictionary\n",
    "print(person)\n"
   ]
  },
  {
   "cell_type": "markdown",
   "id": "eb763b3a-fc7c-4f53-9cea-624cc56f4d49",
   "metadata": {},
   "source": [
    "## QUES 23 -  Write a code to access the value associated with the key \"name\" in the dictionary {'name': 'Alice', 'age': 30}."
   ]
  },
  {
   "cell_type": "code",
   "execution_count": 13,
   "id": "03b6e670-efb1-4e88-a6c7-624b435520ff",
   "metadata": {},
   "outputs": [
    {
     "name": "stdout",
     "output_type": "stream",
     "text": [
      "Alice\n"
     ]
    }
   ],
   "source": [
    "# Define the dictionary\n",
    "person = {'name': 'Alice', 'age': 30}\n",
    "\n",
    "# Access the value associated with the key \"name\"\n",
    "name_value = person['name']\n",
    "\n",
    "# Print the value\n",
    "print(name_value)\n"
   ]
  },
  {
   "cell_type": "markdown",
   "id": "09352342-97de-49d9-9eb6-c2df45afd5e8",
   "metadata": {},
   "source": [
    "## QUES 24 -  Write a code to remove the key \"age\" from the dictionary {'name': 'Bob', 'age': 22, 'city': 'New York'}."
   ]
  },
  {
   "cell_type": "code",
   "execution_count": 14,
   "id": "535830c6-feb5-4829-bd12-6a72e570d234",
   "metadata": {},
   "outputs": [
    {
     "name": "stdout",
     "output_type": "stream",
     "text": [
      "{'name': 'Bob', 'city': 'New York'}\n"
     ]
    }
   ],
   "source": [
    "# Define the dictionary\n",
    "person = {'name': 'Bob', 'age': 22, 'city': 'New York'}\n",
    "\n",
    "# Remove the key \"age\"\n",
    "person.pop('age')\n",
    "\n",
    "# Print the updated dictionary\n",
    "print(person)\n"
   ]
  },
  {
   "cell_type": "markdown",
   "id": "eed7ec93-5044-4edc-ae28-d5d85822f1ee",
   "metadata": {},
   "source": [
    "## QUES 25 -  Write a code to check if the key \"city\" exists in the dictionary {'name': 'Alice', 'city': 'Paris'}"
   ]
  },
  {
   "cell_type": "code",
   "execution_count": 15,
   "id": "268ef40b-dd32-4b18-856c-0dc5c1e49f47",
   "metadata": {},
   "outputs": [
    {
     "name": "stdout",
     "output_type": "stream",
     "text": [
      "Does 'city' exist in the dictionary? True\n"
     ]
    }
   ],
   "source": [
    "# Define the dictionary\n",
    "person = {'name': 'Alice', 'city': 'Paris'}\n",
    "\n",
    "# Check if the key \"city\" exists\n",
    "key_exists = 'city' in person\n",
    "\n",
    "# Print the result\n",
    "print(\"Does 'city' exist in the dictionary?\", key_exists)\n"
   ]
  },
  {
   "cell_type": "markdown",
   "id": "6f89ee6d-6e69-4717-9963-e616b895c2c8",
   "metadata": {},
   "source": [
    "## QUES 26 - Write a code to create a list, a tuple, and a dictionary, and print them all."
   ]
  },
  {
   "cell_type": "code",
   "execution_count": 16,
   "id": "3dad66a8-8e7e-43bd-a974-2da2e9dd9ccd",
   "metadata": {},
   "outputs": [
    {
     "name": "stdout",
     "output_type": "stream",
     "text": [
      "List: [1, 2, 3, 4]\n",
      "Tuple: ('a', 'b', 'c')\n",
      "Dictionary: {'name': 'Alice', 'age': 25}\n"
     ]
    }
   ],
   "source": [
    "# Create a list\n",
    "my_list = [1, 2, 3, 4]\n",
    "\n",
    "# Create a tuple\n",
    "my_tuple = ('a', 'b', 'c')\n",
    "\n",
    "# Create a dictionary\n",
    "my_dict = {'name': 'Alice', 'age': 25}\n",
    "\n",
    "# Print all of them\n",
    "print(\"List:\", my_list)\n",
    "print(\"Tuple:\", my_tuple)\n",
    "print(\"Dictionary:\", my_dict)\n"
   ]
  },
  {
   "cell_type": "markdown",
   "id": "81a4b633-dd16-4520-b374-13a07b1ef04e",
   "metadata": {},
   "source": [
    "## QUES 27 - Write a code to create a list of 5 random numbers between 1 and 100, sort it in ascending order, and print the\n",
    "result.(replaced)\n"
   ]
  },
  {
   "cell_type": "code",
   "execution_count": 17,
   "id": "4013741d-3269-4671-ad62-340541eb9b7e",
   "metadata": {},
   "outputs": [
    {
     "name": "stdout",
     "output_type": "stream",
     "text": [
      "[1, 13, 21, 59, 74]\n"
     ]
    }
   ],
   "source": [
    "import random\n",
    "\n",
    "# Generate a list of 5 random numbers between 1 and 100\n",
    "random_numbers = [random.randint(1, 100) for _ in range(5)]\n",
    "\n",
    "# Sort the list in ascending order\n",
    "random_numbers.sort()\n",
    "\n",
    "# Print the sorted list\n",
    "print(random_numbers)\n"
   ]
  },
  {
   "cell_type": "markdown",
   "id": "59b9c5dc-9009-4478-9295-347581bf11bc",
   "metadata": {},
   "source": [
    "## QUES 28 -  Write a code to create a list with strings and print the element at the third index."
   ]
  },
  {
   "cell_type": "code",
   "execution_count": 18,
   "id": "fef18f71-df1a-4831-b470-981b5b1ebff9",
   "metadata": {},
   "outputs": [
    {
     "name": "stdout",
     "output_type": "stream",
     "text": [
      "date\n"
     ]
    }
   ],
   "source": [
    "# Create a list of strings\n",
    "my_list = ['apple', 'banana', 'cherry', 'date', 'elderberry']\n",
    "\n",
    "# Print the element at the third index\n",
    "print(my_list[3])\n"
   ]
  },
  {
   "cell_type": "markdown",
   "id": "b946a061-74e3-4ae7-bf3a-e3d771e9c692",
   "metadata": {},
   "source": [
    "## QUES 29 -  Write a code to combine two dictionaries into one and print the result"
   ]
  },
  {
   "cell_type": "code",
   "execution_count": 19,
   "id": "3871c8c6-d500-4a94-a5a1-0574e4e5aba2",
   "metadata": {},
   "outputs": [
    {
     "name": "stdout",
     "output_type": "stream",
     "text": [
      "{'a': 1, 'b': 2, 'c': 3, 'd': 4}\n"
     ]
    }
   ],
   "source": [
    "# Define two dictionaries\n",
    "dict1 = {'a': 1, 'b': 2}\n",
    "dict2 = {'c': 3, 'd': 4}\n",
    "\n",
    "# Combine dictionaries (Python 3.9+)\n",
    "combined_dict = dict1 | dict2\n",
    "\n",
    "# Print the combined dictionary\n",
    "print(combined_dict)\n"
   ]
  },
  {
   "cell_type": "markdown",
   "id": "73c820cd-b777-49ee-a094-6e3ae2925dd8",
   "metadata": {},
   "source": [
    "## QUES 30  -  Write a code to convert a list of strings into a set."
   ]
  },
  {
   "cell_type": "code",
   "execution_count": 20,
   "id": "41635b2e-d33d-4175-895c-c66c637f887f",
   "metadata": {},
   "outputs": [
    {
     "name": "stdout",
     "output_type": "stream",
     "text": [
      "{'cherry', 'banana', 'apple'}\n"
     ]
    }
   ],
   "source": [
    "# Define a list of strings\n",
    "my_list = ['apple', 'banana', 'apple', 'cherry', 'banana']\n",
    "\n",
    "# Convert the list to a set\n",
    "my_set = set(my_list)\n",
    "\n",
    "# Print the set\n",
    "print(my_set)\n"
   ]
  }
 ],
 "metadata": {
  "kernelspec": {
   "display_name": "Python 3 (ipykernel)",
   "language": "python",
   "name": "python3"
  },
  "language_info": {
   "codemirror_mode": {
    "name": "ipython",
    "version": 3
   },
   "file_extension": ".py",
   "mimetype": "text/x-python",
   "name": "python",
   "nbconvert_exporter": "python",
   "pygments_lexer": "ipython3",
   "version": "3.13.1"
  }
 },
 "nbformat": 4,
 "nbformat_minor": 5
}
